{
 "cells": [
  {
   "cell_type": "code",
   "execution_count": 2,
   "id": "365771d1",
   "metadata": {},
   "outputs": [],
   "source": [
    "import requests\n",
    "from bs4 import BeautifulSoup"
   ]
  },
  {
   "cell_type": "code",
   "execution_count": 5,
   "id": "5a5fe6a9",
   "metadata": {},
   "outputs": [],
   "source": [
    "response = requests.get(\"https://www.lrt.lt/en/news-in-english\")\n",
    "doc = BeautifulSoup(response.content)"
   ]
  },
  {
   "cell_type": "code",
   "execution_count": 6,
   "id": "a97cd0fa",
   "metadata": {},
   "outputs": [
    {
     "data": {
      "text/plain": [
       "42"
      ]
     },
     "execution_count": 6,
     "metadata": {},
     "output_type": "execute_result"
    }
   ],
   "source": [
    "items = doc.select(\".news\")\n",
    "len(items)"
   ]
  },
  {
   "cell_type": "code",
   "execution_count": 10,
   "id": "3a371f81",
   "metadata": {},
   "outputs": [
    {
     "data": {
      "text/plain": [
       "42"
      ]
     },
     "execution_count": 10,
     "metadata": {},
     "output_type": "execute_result"
    }
   ],
   "source": [
    "articles = []\n",
    "for item in items:\n",
    "    url = item.select_one('h3').text\n",
    "    headline = item.select_one('a')['href']\n",
    "    img = item.select_one('img').get('data-src', None)\n",
    "    article = {\n",
    "        'url': url,\n",
    "        'headline': headline,\n",
    "        'img_path': img\n",
    "    }\n",
    "    articles.append(article)\n",
    "len(articles)"
   ]
  },
  {
   "cell_type": "code",
   "execution_count": 11,
   "id": "a53ea7f0",
   "metadata": {},
   "outputs": [
    {
     "data": {
      "text/html": [
       "<div>\n",
       "<style scoped>\n",
       "    .dataframe tbody tr th:only-of-type {\n",
       "        vertical-align: middle;\n",
       "    }\n",
       "\n",
       "    .dataframe tbody tr th {\n",
       "        vertical-align: top;\n",
       "    }\n",
       "\n",
       "    .dataframe thead th {\n",
       "        text-align: right;\n",
       "    }\n",
       "</style>\n",
       "<table border=\"1\" class=\"dataframe\">\n",
       "  <thead>\n",
       "    <tr style=\"text-align: right;\">\n",
       "      <th></th>\n",
       "      <th>url</th>\n",
       "      <th>headline</th>\n",
       "      <th>img_path</th>\n",
       "    </tr>\n",
       "  </thead>\n",
       "  <tbody>\n",
       "    <tr>\n",
       "      <th>0</th>\n",
       "      <td>Centuries-old wooden house in Vilnius shines a...</td>\n",
       "      <td>/en/news-in-english/19/2049374/centuries-old-w...</td>\n",
       "      <td>/img/2022/01/25/1181710-335298-150x84.jpg</td>\n",
       "    </tr>\n",
       "    <tr>\n",
       "      <th>1</th>\n",
       "      <td>Lithuania to get its first Michelin star? Rest...</td>\n",
       "      <td>/en/news-in-english/19/2050454/lithuania-to-ge...</td>\n",
       "      <td>/img/2020/08/28/711416-414866-150x84.jpg</td>\n",
       "    </tr>\n",
       "    <tr>\n",
       "      <th>2</th>\n",
       "      <td>Lithuanian PM voices confidence in defence min...</td>\n",
       "      <td>/en/news-in-english/19/2050571/lithuanian-pm-v...</td>\n",
       "      <td>/img/2023/02/18/1451044-637891-150x84.jpg</td>\n",
       "    </tr>\n",
       "    <tr>\n",
       "      <th>3</th>\n",
       "      <td>Lithuania deems 1,164 Belarusian and Russian n...</td>\n",
       "      <td>/en/news-in-english/19/2050524/lithuania-deems...</td>\n",
       "      <td>/img/2022/03/01/1207094-733403-150x84.jpg</td>\n",
       "    </tr>\n",
       "    <tr>\n",
       "      <th>4</th>\n",
       "      <td>Vilnius ex-mayor Šimašius returns to private s...</td>\n",
       "      <td>/en/news-in-english/19/2050519/vilnius-ex-mayo...</td>\n",
       "      <td>/img/2023/04/17/1491828-404400-150x84.jpg</td>\n",
       "    </tr>\n",
       "  </tbody>\n",
       "</table>\n",
       "</div>"
      ],
      "text/plain": [
       "                                                 url  \\\n",
       "0  Centuries-old wooden house in Vilnius shines a...   \n",
       "1  Lithuania to get its first Michelin star? Rest...   \n",
       "2  Lithuanian PM voices confidence in defence min...   \n",
       "3  Lithuania deems 1,164 Belarusian and Russian n...   \n",
       "4  Vilnius ex-mayor Šimašius returns to private s...   \n",
       "\n",
       "                                            headline  \\\n",
       "0  /en/news-in-english/19/2049374/centuries-old-w...   \n",
       "1  /en/news-in-english/19/2050454/lithuania-to-ge...   \n",
       "2  /en/news-in-english/19/2050571/lithuanian-pm-v...   \n",
       "3  /en/news-in-english/19/2050524/lithuania-deems...   \n",
       "4  /en/news-in-english/19/2050519/vilnius-ex-mayo...   \n",
       "\n",
       "                                    img_path  \n",
       "0  /img/2022/01/25/1181710-335298-150x84.jpg  \n",
       "1   /img/2020/08/28/711416-414866-150x84.jpg  \n",
       "2  /img/2023/02/18/1451044-637891-150x84.jpg  \n",
       "3  /img/2022/03/01/1207094-733403-150x84.jpg  \n",
       "4  /img/2023/04/17/1491828-404400-150x84.jpg  "
      ]
     },
     "execution_count": 11,
     "metadata": {},
     "output_type": "execute_result"
    }
   ],
   "source": [
    "import pandas as pd\n",
    "\n",
    "df = pd.DataFrame(articles)\n",
    "df.head()"
   ]
  },
  {
   "cell_type": "code",
   "execution_count": 13,
   "id": "127c55d7",
   "metadata": {},
   "outputs": [],
   "source": [
    "#approach 1: simple single csv file\n",
    "df.to_csv(\"current_headlines.csv\", index=False)"
   ]
  },
  {
   "cell_type": "code",
   "execution_count": 14,
   "id": "1914d273",
   "metadata": {},
   "outputs": [],
   "source": [
    "#approach 2: save a different file for each new scrape\n",
    "#NOTE: should use this only for daily scrape, \n",
    "#not multiple times a day\n",
    "#create a folder called \"data\"\n",
    "\n",
    "import os\n",
    "os.makedirs(\"data\", exist_ok=True)"
   ]
  },
  {
   "cell_type": "code",
   "execution_count": 18,
   "id": "4c8e50ae",
   "metadata": {},
   "outputs": [],
   "source": [
    "#naming the file name with the date it was scraped\n",
    "#so it's easier to keep track + browse\n",
    "\n",
    "from datetime import datetime\n",
    "date_string = datetime.now().strftime(\"%Y-%m-%d\")\n",
    "filepath = f\"data/{date_string}.csv\"\n",
    "filepath\n",
    "df.to_csv(filepath, index=False)"
   ]
  },
  {
   "cell_type": "code",
   "execution_count": 19,
   "id": "a6baf3f8",
   "metadata": {},
   "outputs": [
    {
     "data": {
      "text/html": [
       "<div>\n",
       "<style scoped>\n",
       "    .dataframe tbody tr th:only-of-type {\n",
       "        vertical-align: middle;\n",
       "    }\n",
       "\n",
       "    .dataframe tbody tr th {\n",
       "        vertical-align: top;\n",
       "    }\n",
       "\n",
       "    .dataframe thead th {\n",
       "        text-align: right;\n",
       "    }\n",
       "</style>\n",
       "<table border=\"1\" class=\"dataframe\">\n",
       "  <thead>\n",
       "    <tr style=\"text-align: right;\">\n",
       "      <th></th>\n",
       "      <th>url</th>\n",
       "      <th>headline</th>\n",
       "      <th>img_path</th>\n",
       "      <th>scrape_date</th>\n",
       "    </tr>\n",
       "  </thead>\n",
       "  <tbody>\n",
       "    <tr>\n",
       "      <th>0</th>\n",
       "      <td>Centuries-old wooden house in Vilnius shines a...</td>\n",
       "      <td>/en/news-in-english/19/2049374/centuries-old-w...</td>\n",
       "      <td>/img/2022/01/25/1181710-335298-150x84.jpg</td>\n",
       "      <td>2023-08-05</td>\n",
       "    </tr>\n",
       "    <tr>\n",
       "      <th>1</th>\n",
       "      <td>Lithuania to get its first Michelin star? Rest...</td>\n",
       "      <td>/en/news-in-english/19/2050454/lithuania-to-ge...</td>\n",
       "      <td>/img/2020/08/28/711416-414866-150x84.jpg</td>\n",
       "      <td>2023-08-05</td>\n",
       "    </tr>\n",
       "    <tr>\n",
       "      <th>2</th>\n",
       "      <td>Lithuanian PM voices confidence in defence min...</td>\n",
       "      <td>/en/news-in-english/19/2050571/lithuanian-pm-v...</td>\n",
       "      <td>/img/2023/02/18/1451044-637891-150x84.jpg</td>\n",
       "      <td>2023-08-05</td>\n",
       "    </tr>\n",
       "    <tr>\n",
       "      <th>3</th>\n",
       "      <td>Lithuania deems 1,164 Belarusian and Russian n...</td>\n",
       "      <td>/en/news-in-english/19/2050524/lithuania-deems...</td>\n",
       "      <td>/img/2022/03/01/1207094-733403-150x84.jpg</td>\n",
       "      <td>2023-08-05</td>\n",
       "    </tr>\n",
       "    <tr>\n",
       "      <th>4</th>\n",
       "      <td>Vilnius ex-mayor Šimašius returns to private s...</td>\n",
       "      <td>/en/news-in-english/19/2050519/vilnius-ex-mayo...</td>\n",
       "      <td>/img/2023/04/17/1491828-404400-150x84.jpg</td>\n",
       "      <td>2023-08-05</td>\n",
       "    </tr>\n",
       "  </tbody>\n",
       "</table>\n",
       "</div>"
      ],
      "text/plain": [
       "                                                 url  \\\n",
       "0  Centuries-old wooden house in Vilnius shines a...   \n",
       "1  Lithuania to get its first Michelin star? Rest...   \n",
       "2  Lithuanian PM voices confidence in defence min...   \n",
       "3  Lithuania deems 1,164 Belarusian and Russian n...   \n",
       "4  Vilnius ex-mayor Šimašius returns to private s...   \n",
       "\n",
       "                                            headline  \\\n",
       "0  /en/news-in-english/19/2049374/centuries-old-w...   \n",
       "1  /en/news-in-english/19/2050454/lithuania-to-ge...   \n",
       "2  /en/news-in-english/19/2050571/lithuanian-pm-v...   \n",
       "3  /en/news-in-english/19/2050524/lithuania-deems...   \n",
       "4  /en/news-in-english/19/2050519/vilnius-ex-mayo...   \n",
       "\n",
       "                                    img_path scrape_date  \n",
       "0  /img/2022/01/25/1181710-335298-150x84.jpg  2023-08-05  \n",
       "1   /img/2020/08/28/711416-414866-150x84.jpg  2023-08-05  \n",
       "2  /img/2023/02/18/1451044-637891-150x84.jpg  2023-08-05  \n",
       "3  /img/2022/03/01/1207094-733403-150x84.jpg  2023-08-05  \n",
       "4  /img/2023/04/17/1491828-404400-150x84.jpg  2023-08-05  "
      ]
     },
     "execution_count": 19,
     "metadata": {},
     "output_type": "execute_result"
    }
   ],
   "source": [
    "#approach 3: appending to existing csv\n",
    "\n",
    "df['scrape_date'] = datetime.now().strftime(\"%Y-%m-%d\")\n",
    "df.head()"
   ]
  },
  {
   "cell_type": "code",
   "execution_count": 25,
   "id": "69f8fe69",
   "metadata": {},
   "outputs": [
    {
     "data": {
      "text/html": [
       "<div>\n",
       "<style scoped>\n",
       "    .dataframe tbody tr th:only-of-type {\n",
       "        vertical-align: middle;\n",
       "    }\n",
       "\n",
       "    .dataframe tbody tr th {\n",
       "        vertical-align: top;\n",
       "    }\n",
       "\n",
       "    .dataframe thead th {\n",
       "        text-align: right;\n",
       "    }\n",
       "</style>\n",
       "<table border=\"1\" class=\"dataframe\">\n",
       "  <thead>\n",
       "    <tr style=\"text-align: right;\">\n",
       "      <th></th>\n",
       "    </tr>\n",
       "  </thead>\n",
       "  <tbody>\n",
       "  </tbody>\n",
       "</table>\n",
       "</div>"
      ],
      "text/plain": [
       "Empty DataFrame\n",
       "Columns: []\n",
       "Index: []"
      ]
     },
     "execution_count": 25,
     "metadata": {},
     "output_type": "execute_result"
    }
   ],
   "source": [
    "#if it exists, open it\n",
    "#if it doesn't exist, create a blank dataframe\n",
    "try: \n",
    "    existing_df = pd.read_csv(\"always-updated.csv\")\n",
    "except:\n",
    "    existing_df = pd.DataFrame([])\n",
    "existing_df.head()"
   ]
  },
  {
   "cell_type": "code",
   "execution_count": 27,
   "id": "9b2c2c19",
   "metadata": {},
   "outputs": [],
   "source": [
    "#combine old and new dataframe\n",
    "\n",
    "combined = pd.concat([df,existing_df], ignore_index=True)\n",
    "combined.to_csv(\"always-updated.csv\", index=False)"
   ]
  }
 ],
 "metadata": {
  "kernelspec": {
   "display_name": "Python 3 (ipykernel)",
   "language": "python",
   "name": "python3"
  },
  "language_info": {
   "codemirror_mode": {
    "name": "ipython",
    "version": 3
   },
   "file_extension": ".py",
   "mimetype": "text/x-python",
   "name": "python",
   "nbconvert_exporter": "python",
   "pygments_lexer": "ipython3",
   "version": "3.10.11"
  }
 },
 "nbformat": 4,
 "nbformat_minor": 5
}
